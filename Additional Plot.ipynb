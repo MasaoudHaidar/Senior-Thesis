{
 "cells": [
  {
   "cell_type": "markdown",
   "id": "b35bd3cc",
   "metadata": {},
   "source": [
    "# Plots"
   ]
  },
  {
   "cell_type": "code",
   "execution_count": null,
   "id": "539d5fcb",
   "metadata": {},
   "outputs": [],
   "source": [
    "import pandas as pd\n",
    "import numpy as np\n",
    "import matplotlib.pyplot as plt"
   ]
  },
  {
   "cell_type": "code",
   "execution_count": null,
   "id": "ba43209c",
   "metadata": {},
   "outputs": [],
   "source": [
    "x = np.linspace(0, 50, 500)\n",
    "y = x + 12 * np.sin(x)\n",
    "\n",
    "xpoint = [22]\n",
    "ypoint = [xpoint + 12 * np.sin(xpoint)]"
   ]
  },
  {
   "cell_type": "code",
   "execution_count": null,
   "id": "f4978edf",
   "metadata": {},
   "outputs": [],
   "source": [
    "plt.plot(x, y)\n",
    "plt.tick_params(left = False, right = False , labelleft = False ,\n",
    "                labelbottom = False, bottom = False)\n",
    "plt.scatter(xpoint, ypoint, color = \"red\")"
   ]
  },
  {
   "cell_type": "code",
   "execution_count": null,
   "id": "d369a5fc",
   "metadata": {},
   "outputs": [],
   "source": []
  }
 ],
 "metadata": {
  "kernelspec": {
   "display_name": "Python 3",
   "language": "python",
   "name": "python3"
  },
  "language_info": {
   "codemirror_mode": {
    "name": "ipython",
    "version": 3
   },
   "file_extension": ".py",
   "mimetype": "text/x-python",
   "name": "python",
   "nbconvert_exporter": "python",
   "pygments_lexer": "ipython3",
   "version": "3.7.10"
  }
 },
 "nbformat": 4,
 "nbformat_minor": 5
}
