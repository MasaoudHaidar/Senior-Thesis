{
 "cells": [
  {
   "cell_type": "markdown",
   "id": "f991f2e5",
   "metadata": {},
   "source": [
    "# Setup"
   ]
  },
  {
   "cell_type": "code",
   "execution_count": null,
   "id": "8c734661",
   "metadata": {},
   "outputs": [],
   "source": [
    "from google.colab import drive\n",
    "drive.mount(\"/content/drive\")"
   ]
  },
  {
   "cell_type": "code",
   "execution_count": null,
   "id": "c29e43b8",
   "metadata": {},
   "outputs": [],
   "source": [
    "import locale\n",
    "def getpreferredencoding(do_setlocale = True):\n",
    "    return \"UTF-8\"\n",
    "locale.getpreferredencoding = getpreferredencoding"
   ]
  },
  {
   "cell_type": "code",
   "execution_count": null,
   "id": "bcfb35d0",
   "metadata": {},
   "outputs": [],
   "source": [
    "!pip install transformers==4.22.2\n",
    "\n",
    "!pip install statsmodels\n",
    "\n",
    "!pip install datasets\n",
    "\n",
    "!pip install -U tensorflow==2.10 \n",
    "\n",
    "!nvidia-smi"
   ]
  },
  {
   "cell_type": "code",
   "execution_count": null,
   "id": "50ec6474",
   "metadata": {},
   "outputs": [],
   "source": [
    "# main libraries\n",
    "import pandas as pd\n",
    "import numpy as np\n",
    "import matplotlib.pyplot as plt\n",
    "import time\n",
    "from collections import defaultdict\n",
    "from tqdm.autonotebook import tqdm\n",
    "import spacy\n",
    "import re\n",
    "import statsmodels\n",
    "import statsmodels.api as sm\n",
    "import scipy\n",
    "\n",
    "# sklearn\n",
    "from sklearn.model_selection import train_test_split\n",
    "from sklearn.metrics import f1_score, accuracy_score, precision_score, recall_score, mean_absolute_percentage_error, r2_score, jaccard_score\n",
    "from sklearn.linear_model import LinearRegression, Ridge, Lasso\n",
    "from sklearn.manifold import TSNE\n",
    "from sklearn.decomposition import PCA\n",
    "from sklearn.preprocessing import StandardScaler\n",
    "\n",
    "# specific machine learning functionality\n",
    "import tensorflow as tf\n",
    "from tensorflow import keras\n",
    "from tensorflow.python.keras import backend as K\n",
    "import datasets\n",
    "from datasets import Dataset\n",
    "from datasets import load_from_disk\n",
    "\n",
    "# Transformers\n",
    "import transformers\n",
    "from transformers import (\n",
    "    BertTokenizer, \n",
    "    TFBertForSequenceClassification, \n",
    "    TFBertForMaskedLM, \n",
    "    TFBertModel,\n",
    "    #create_optimizer,\n",
    "    #DataCollatorForLanguageModeling,\n",
    "    #PreTrainedTokenizerFast\n",
    ")"
   ]
  },
  {
   "cell_type": "code",
   "execution_count": null,
   "id": "b465e760",
   "metadata": {},
   "outputs": [],
   "source": [
    "# Enable/Disable Eager Execution\n",
    "# Reference: https://www.tensorflow.org/guide/eager\n",
    "# TensorFlow's eager execution is an imperative programming environment that evaluates operations immediately, \n",
    "# without building graphs\n",
    "\n",
    "#tf.compat.v1.disable_eager_execution()\n",
    "#tf.compat.v1.enable_eager_execution()\n",
    "\n",
    "print(\"tensorflow version\", tf.__version__)\n",
    "print(\"keras version\", tf.keras.__version__)\n",
    "print(\"Eager Execution Enabled:\", tf.executing_eagerly())\n",
    "\n",
    "# Get the number of replicas \n",
    "strategy = tf.distribute.MirroredStrategy()\n",
    "print(\"Number of replicas:\", strategy.num_replicas_in_sync)\n",
    "\n",
    "devices = tf.config.experimental.get_visible_devices()\n",
    "print(\"Devices:\", devices)\n",
    "print(tf.config.experimental.list_logical_devices('GPU'))\n",
    "\n",
    "print(\"GPU Available: \", tf.config.list_physical_devices('GPU'))\n",
    "print(\"All Physical Devices\", tf.config.list_physical_devices())\n",
    "\n",
    "# Better performance with the tf.data API\n",
    "# Reference: https://www.tensorflow.org/guide/data_performance\n",
    "AUTOTUNE = tf.data.experimental.AUTOTUNE"
   ]
  },
  {
   "cell_type": "code",
   "execution_count": null,
   "id": "38980666",
   "metadata": {},
   "outputs": [],
   "source": [
    "word_dir = \"/content/drive/MyDrive/\""
   ]
  },
  {
   "cell_type": "markdown",
   "id": "2627fb22",
   "metadata": {},
   "source": [
    "# Data"
   ]
  },
  {
   "cell_type": "code",
   "execution_count": null,
   "id": "9298bd86",
   "metadata": {},
   "outputs": [],
   "source": [
    "qadataset = datasets.load_dataset(\"squad\")"
   ]
  },
  {
   "cell_type": "markdown",
   "id": "d9450dbb",
   "metadata": {},
   "source": [
    "# EDA"
   ]
  },
  {
   "cell_type": "code",
   "execution_count": null,
   "id": "84f46680",
   "metadata": {},
   "outputs": [],
   "source": [
    "qadataset"
   ]
  },
  {
   "cell_type": "code",
   "execution_count": null,
   "id": "6ad36dbf",
   "metadata": {},
   "outputs": [],
   "source": [
    "lengths = [temp['context'].count(' ') for temp in qadataset['train']]\n",
    "answer_starts = [temp['context'][:temp['answers']['answer_start'][0]].count(' ') for temp in qadataset['train']]\n",
    "question_lengths = [temp['question'].count(' ') for temp in qadataset['train']]\n",
    "answer_lengths = [temp['answers']['text'][0].count(' ') for temp in qadataset['train']]"
   ]
  },
  {
   "cell_type": "code",
   "execution_count": null,
   "id": "834dfd49",
   "metadata": {},
   "outputs": [],
   "source": [
    "plt.hist(lengths)\n",
    "print(np.mean(lengths))\n",
    "print(np.mean(np.asarray(lengths) > 256))"
   ]
  },
  {
   "cell_type": "code",
   "execution_count": null,
   "id": "eb6d77b8",
   "metadata": {},
   "outputs": [],
   "source": [
    "plt.hist(answer_starts)\n",
    "print(np.mean(answer_starts))\n",
    "print(np.mean(np.asarray(answer_starts) < 256))"
   ]
  },
  {
   "cell_type": "code",
   "execution_count": null,
   "id": "b5193858",
   "metadata": {},
   "outputs": [],
   "source": [
    "plt.hist(question_lengths)\n",
    "print(np.mean(question_lengths))\n",
    "print(np.mean(np.asarray(question_lengths) < 256))"
   ]
  },
  {
   "cell_type": "code",
   "execution_count": null,
   "id": "ad84e954",
   "metadata": {},
   "outputs": [],
   "source": [
    "plt.hist(answer_lengths)\n",
    "print(np.mean(answer_lengths))\n",
    "print(np.mean(np.asarray(answer_lengths) < 512 - 384))"
   ]
  },
  {
   "cell_type": "code",
   "execution_count": null,
   "id": "eacb7a45",
   "metadata": {},
   "outputs": [],
   "source": [
    "lengths = np.asarray(lengths)\n",
    "answer_starts = np.asarray(answer_starts)\n",
    "question_lengths = np.asarray(question_lengths)\n",
    "answer_lengths = np.asarray(answer_lengths)"
   ]
  },
  {
   "cell_type": "markdown",
   "id": "1b9cf340",
   "metadata": {},
   "source": [
    "# Labeling the Data"
   ]
  },
  {
   "cell_type": "code",
   "execution_count": null,
   "id": "1fc6fbe8",
   "metadata": {},
   "outputs": [],
   "source": [
    "qadataset_train = qadataset['train']\n",
    "qadataset_test = qadataset['validation']"
   ]
  },
  {
   "cell_type": "code",
   "execution_count": null,
   "id": "727d942d",
   "metadata": {},
   "outputs": [],
   "source": [
    "def make_negative(example):\n",
    "    context = example['context']\n",
    "    answer_start = example['answers']['answer_start'][0]\n",
    "    sentence_number = context[:answer_start].count(\".\")\n",
    "    sentences = context.split(\".\")\n",
    "    example['context'] = '.'.join(sentences[:sentence_number] + sentences[sentence_number+1:])\n",
    "    example['label'] = False\n",
    "    return example"
   ]
  },
  {
   "cell_type": "code",
   "execution_count": null,
   "id": "ee8fc637",
   "metadata": {},
   "outputs": [],
   "source": [
    "def make_positive(example):\n",
    "    example['label'] = True\n",
    "    return example"
   ]
  },
  {
   "cell_type": "code",
   "execution_count": null,
   "id": "2a541a6c",
   "metadata": {},
   "outputs": [],
   "source": [
    "qadataset_train_label_split = qadataset_train.train_test_split(test_size=0.5, shuffle=True, seed=109)\n",
    "\n",
    "qadataset_train_positive = qadataset_train_label_split['train']\n",
    "qadataset_train_negative = qadataset_train_label_split['test']\n",
    "\n",
    "qadataset_train_negative = qadataset_train_negative.map(make_negative)\n",
    "qadataset_train_positive = qadataset_train_positive.map(make_positive)"
   ]
  },
  {
   "cell_type": "code",
   "execution_count": null,
   "id": "97be59d9",
   "metadata": {},
   "outputs": [],
   "source": [
    "qadataset_test_label_split = qadataset_test.train_test_split(test_size=0.5, shuffle=True, seed=109)\n",
    "\n",
    "qadataset_test_positive = qadataset_test_label_split['train']\n",
    "qadataset_test_negative = qadataset_test_label_split['test']\n",
    "\n",
    "qadataset_test_positive = qadataset_test_positive.map(make_positive)\n",
    "qadataset_test_negative = qadataset_test_negative.map(make_negative)"
   ]
  },
  {
   "cell_type": "code",
   "execution_count": null,
   "id": "17e09c66",
   "metadata": {},
   "outputs": [],
   "source": [
    "qadataset_train = datasets.concatenate_datasets([qadataset_train_positive, qadataset_train_negative])\n",
    "qadataset_test = datasets.concatenate_datasets([qadataset_test_positive, qadataset_test_negative])"
   ]
  },
  {
   "cell_type": "code",
   "execution_count": null,
   "id": "7bcc3e5b",
   "metadata": {},
   "outputs": [],
   "source": [
    "def combine_q_a(example):\n",
    "    example['text'] = '[CLS] ' + example['question'] + ' [SEP] ' + example['context']\n",
    "    return example"
   ]
  },
  {
   "cell_type": "code",
   "execution_count": null,
   "id": "401dcc32",
   "metadata": {},
   "outputs": [],
   "source": [
    "qadataset_train = qadataset_train.map(combine_q_a)\n",
    "qadataset_test = qadataset_test.map(combine_q_a)"
   ]
  },
  {
   "cell_type": "markdown",
   "id": "f61ca380",
   "metadata": {},
   "source": [
    "# Train QA Classifier"
   ]
  },
  {
   "cell_type": "markdown",
   "id": "14025d4a",
   "metadata": {},
   "source": [
    "## Tokenization"
   ]
  },
  {
   "cell_type": "code",
   "execution_count": null,
   "id": "dbfb5d9f",
   "metadata": {},
   "outputs": [],
   "source": [
    "### Tokenization parameters\n",
    "classifier_name = 'bert-base-uncased'\n",
    "bert_tokenizer = BertTokenizer.from_pretrained(classifier_name, do_lower_case=True)\n",
    "batch_size = 8 \n",
    "AUTOTUNE = tf.data.experimental.AUTOTUNE"
   ]
  },
  {
   "cell_type": "code",
   "execution_count": null,
   "id": "41c04f9c",
   "metadata": {},
   "outputs": [],
   "source": [
    "### Tokenization function\n",
    "def tokenize_for_bert_classifier(df, should_shuffle=False):\n",
    "    # Tokenization\n",
    "    X_tokenized = bert_tokenizer.batch_encode_plus(\n",
    "            df[\"text\"],\n",
    "            return_tensors='tf',\n",
    "            add_special_tokens = True,\n",
    "            return_token_type_ids=True,\n",
    "            padding='max_length',\n",
    "            max_length=256,\n",
    "            return_attention_mask = True,\n",
    "            truncation='longest_first'\n",
    "    )\n",
    "    # Creating TF datasets\n",
    "    dataset = tf.data.Dataset.from_tensor_slices(((X_tokenized[\"input_ids\"],\n",
    "                                                   X_tokenized[\"token_type_ids\"],\n",
    "                                                   X_tokenized[\"attention_mask\"]), \n",
    "                                                  df[\"label\"]))\n",
    "    if should_shuffle:\n",
    "        buffer_train = len(df[\"text\"])\n",
    "        dataset = dataset.shuffle(buffer_size=buffer_train)\n",
    "    dataset = dataset.batch(batch_size)\n",
    "    dataset = dataset.prefetch(buffer_size=AUTOTUNE)\n",
    "    \n",
    "    return dataset"
   ]
  },
  {
   "cell_type": "code",
   "execution_count": null,
   "id": "15052733",
   "metadata": {},
   "outputs": [],
   "source": [
    "qadataset_train = qadataset_train.train_test_split(test_size=0.2, shuffle=True, seed=109)\n",
    "\n",
    "qadataset_train['validation'] = qadataset_train.pop('test')\n",
    "\n",
    "classification_training_data = tokenize_for_bert_classifier(qadataset_train['train'], should_shuffle=True)\n",
    "classification_validation_data = tokenize_for_bert_classifier(qadataset_train['validation'])"
   ]
  },
  {
   "cell_type": "code",
   "execution_count": null,
   "id": "ba1b7f39",
   "metadata": {},
   "outputs": [],
   "source": [
    "classification_test_data = tokenize_for_bert_classifier(qadataset_test)"
   ]
  },
  {
   "cell_type": "markdown",
   "id": "e9c6fceb",
   "metadata": {},
   "source": [
    "## Training"
   ]
  },
  {
   "cell_type": "code",
   "execution_count": null,
   "id": "5da337e3",
   "metadata": {},
   "outputs": [],
   "source": [
    "### BERT Setup\n",
    "learning_rate = 2e-5\n",
    "epochs = 5\n",
    "def get_bert_classifier():\n",
    "    return TFBertForSequenceClassification.from_pretrained(classifier_name, \n",
    "                                                           num_labels=1, from_pt = True)\n",
    "\n",
    "def get_compiled_bert_classifier(model = None):\n",
    "    # Free up memory\n",
    "    K.clear_session()\n",
    "\n",
    "    # Build the model\n",
    "    if model is None:\n",
    "      model = get_bert_classifier()\n",
    "\n",
    "    # Print the model architecture\n",
    "    print(model.summary())\n",
    "\n",
    "    # Optimizer\n",
    "    optimizer = keras.optimizers.Adam(learning_rate=learning_rate, epsilon=1e-08)\n",
    "    # Loss\n",
    "    loss = keras.losses.BinaryCrossentropy(from_logits=True)\n",
    "\n",
    "    # Compile\n",
    "    model.compile(loss=loss,\n",
    "                      optimizer=optimizer,\n",
    "                      metrics=['accuracy'])\n",
    "    \n",
    "    return model"
   ]
  },
  {
   "cell_type": "code",
   "execution_count": null,
   "id": "630882ef",
   "metadata": {},
   "outputs": [],
   "source": [
    "classifier_model = get_compiled_bert_classifier()"
   ]
  },
  {
   "cell_type": "code",
   "execution_count": null,
   "id": "044257d1",
   "metadata": {},
   "outputs": [],
   "source": [
    "### Train model\n",
    "epochs = 2\n",
    "train_model = False\n",
    "if train_model:\n",
    "    start_time = time.time()\n",
    "    training_results = classifier_model.fit(\n",
    "            classification_training_data,\n",
    "            validation_data=classification_validation_data,\n",
    "            epochs=epochs,\n",
    "            verbose=1)\n",
    "    execution_time = (time.time() - start_time)/60.0\n",
    "    print(\"Training execution time (mins)\",execution_time)\n",
    "    classifier_model.save_pretrained(word_dir + 'Senior Thesis models/model_classifier_bert_6/temp')\n",
    "else:\n",
    "    classifier_model = TFBertForSequenceClassification.from_pretrained(word_dir + 'Senior Thesis models/model_classifier_bert_6/temp')"
   ]
  },
  {
   "cell_type": "markdown",
   "id": "53cba9e8",
   "metadata": {},
   "source": [
    "## Evaluation"
   ]
  },
  {
   "cell_type": "code",
   "execution_count": null,
   "id": "4000d2b7",
   "metadata": {},
   "outputs": [],
   "source": [
    "### Evaluation Function\n",
    "def evaluate_bert_classifier(bert_model, dataset, Y_true, only_accuracy = False):\n",
    "    Y_pred = bert_model.predict(dataset)\n",
    "    Y_pred = Y_pred['logits'] > 0\n",
    "    acc = accuracy_score(Y_true, Y_pred)\n",
    "    print(f\"Accuracy: {acc}\")\n",
    "    if only_accuracy:\n",
    "        return\n",
    "    f1 = f1_score(Y_true, Y_pred)\n",
    "    print(f\"F1 score: {f1}\")\n",
    "    recall = recall_score(Y_true, Y_pred)\n",
    "    print(f\"Recall score: {recall}\")\n",
    "    precision = precision_score(Y_true, Y_pred)\n",
    "    print(f\"Precision score: {precision}\")\n",
    "    \n",
    "    Y_pred = np.asarray([x[0] for x in Y_pred])\n",
    "    \n",
    "    TN = np.sum((Y_true == Y_pred) & (Y_pred == 0))\n",
    "    TP = np.sum((Y_true == Y_pred) & (Y_pred == 1))\n",
    "    \n",
    "    FN = np.sum((Y_true != Y_pred) & (Y_pred == 0))\n",
    "    FP = np.sum((Y_true != Y_pred) & (Y_pred == 1))\n",
    "    \n",
    "    print(f\"TN: {TN}, TP:{TP}, FN:{FN}, FP:{FP}\")"
   ]
  },
  {
   "cell_type": "code",
   "execution_count": null,
   "id": "a9402222",
   "metadata": {},
   "outputs": [],
   "source": [
    "# must have should_shuffle=False for this\n",
    "evaluate_bert_classifier(classifier_model, classification_training_data, qadataset_train['train'][\"label\"])"
   ]
  },
  {
   "cell_type": "code",
   "execution_count": null,
   "id": "e9e5a2eb",
   "metadata": {},
   "outputs": [],
   "source": [
    "evaluate_bert_classifier(classifier_model, classification_validation_data, qadataset_train['validation'][\"label\"])"
   ]
  },
  {
   "cell_type": "code",
   "execution_count": null,
   "id": "d55bc8e0",
   "metadata": {},
   "outputs": [],
   "source": [
    "evaluate_bert_classifier(classifier_model, classification_test_data, qadataset_test[\"label\"])"
   ]
  },
  {
   "cell_type": "code",
   "execution_count": null,
   "id": "4fae6502",
   "metadata": {},
   "outputs": [],
   "source": []
  }
 ],
 "metadata": {
  "kernelspec": {
   "display_name": "Python 3",
   "language": "python",
   "name": "python3"
  },
  "language_info": {
   "codemirror_mode": {
    "name": "ipython",
    "version": 3
   },
   "file_extension": ".py",
   "mimetype": "text/x-python",
   "name": "python",
   "nbconvert_exporter": "python",
   "pygments_lexer": "ipython3",
   "version": "3.7.10"
  }
 },
 "nbformat": 4,
 "nbformat_minor": 5
}
